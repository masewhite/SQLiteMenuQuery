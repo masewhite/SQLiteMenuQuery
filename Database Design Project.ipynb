{
 "cells": [
  {
   "cell_type": "markdown",
   "metadata": {},
   "source": [
    "# Run All. Application is at the bottom. Some blocks of code are labeled. If needed convert from Markdown to Code. The main method where I originally added into the tables is commented because of already loaded database. "
   ]
  },
  {
   "cell_type": "code",
   "execution_count": 1,
   "metadata": {},
   "outputs": [],
   "source": [
    "#Let's load the sql extension and connect to a database **lab2.db** using:\n",
    "%load_ext sql\n",
    "#%reload_ext sql\n",
    "%sql sqlite:///Project.db"
   ]
  },
  {
   "cell_type": "code",
   "execution_count": 2,
   "metadata": {},
   "outputs": [],
   "source": [
    "import sqlite3\n",
    "from sqlite3 import Error"
   ]
  },
  {
   "cell_type": "code",
   "execution_count": 3,
   "metadata": {},
   "outputs": [],
   "source": [
    "def create_connection(db_file):\n",
    "    #create a database connection to a SQLite database \n",
    "    conn = None\n",
    "    try:\n",
    "        conn = sqlite3.connect(db_file)\n",
    "        print(sqlite3.version)\n",
    "    except Error as e:\n",
    "        print(e)\n",
    "    \n",
    "    return conn"
   ]
  },
  {
   "cell_type": "code",
   "execution_count": 4,
   "metadata": {},
   "outputs": [],
   "source": [
    "# create a table from the create_table_sql statement\n",
    "#param conn: Connection object\n",
    "#param create_table_sql: a CREATE TABLE statement\n",
    "\n",
    "def create_table(conn, create_table_sql):\n",
    "\n",
    "    try:\n",
    "        c = conn.cursor()\n",
    "        c.execute(create_table_sql)\n",
    "    except Error as e:\n",
    "        print(e)"
   ]
  },
  {
   "cell_type": "code",
   "execution_count": 5,
   "metadata": {},
   "outputs": [],
   "source": [
    "def main():\n",
    "    database = r\"Database.db\"\n",
    " \n",
    "    sql_create_students_table = \"\"\" CREATE TABLE IF NOT EXISTS students (\n",
    "                                        sid text PRIMARY KEY NOT NULL,\n",
    "                                        name text\n",
    "                                    ); \"\"\"\n",
    " \n",
    "    sql_create_courses_table = \"\"\"CREATE TABLE IF NOT EXISTS courses (\n",
    "                                    cid text PRIMARY KEY NOT NULL,\n",
    "                                    cname text NOT NULL,\n",
    "                                    credits integer\n",
    "                                );\"\"\"\n",
    "    \n",
    "    sql_create_enroll_table = \"\"\"CREATE TABLE IF NOT EXISTS enroll (\n",
    "                                    sid text NOT NULL,\n",
    "                                    cid text NOT NULL,\n",
    "                                    FOREIGN KEY (sid) REFERENCES students (sid),\n",
    "                                    FOREIGN KEY (cid) REFERENCES courses (cid)\n",
    "                                );\"\"\"\n",
    " \n",
    "    # create a database connection\n",
    "    conn = create_connection(database)\n",
    " \n",
    "    # create tables\n",
    "    if conn is not None:\n",
    "        # create students table\n",
    "        create_table(conn, sql_create_students_table)\n",
    " \n",
    "        # create courses table\n",
    "        create_table(conn, sql_create_courses_table)\n",
    "        \n",
    "        # create enroll table\n",
    "        create_table(conn, sql_create_enroll_table)\n",
    "    else:\n",
    "        print(\"Error! cannot create the database connection.\")"
   ]
  },
  {
   "cell_type": "code",
   "execution_count": 6,
   "metadata": {},
   "outputs": [
    {
     "name": "stdout",
     "output_type": "stream",
     "text": [
      "2.6.0\n"
     ]
    }
   ],
   "source": [
    "if __name__ == '__main__':\n",
    "    main()"
   ]
  },
  {
   "cell_type": "code",
   "execution_count": 7,
   "metadata": {},
   "outputs": [],
   "source": [
    "#Create a new project into the projects table\n",
    "#param conn:\n",
    "#param project:\n",
    "#return: project id\n",
    "\n",
    "def create_students(conn, students):\n",
    "\n",
    "    sql = ''' INSERT INTO students(sid,name)\n",
    "              VALUES(?,?) '''\n",
    "    cur = conn.cursor()\n",
    "    cur.execute(sql, students)\n",
    "    return cur.lastrowid"
   ]
  },
  {
   "cell_type": "code",
   "execution_count": 8,
   "metadata": {},
   "outputs": [],
   "source": [
    "#Create a new project into the projects table\n",
    "#param conn:\n",
    "#param project:\n",
    "#return: project id\n",
    "\n",
    "def create_courses(conn, courses):\n",
    "\n",
    "    sql = ''' INSERT INTO courses(cid,cname,credits)\n",
    "              VALUES(?,?,?) '''\n",
    "    cur = conn.cursor()\n",
    "    cur.execute(sql, courses)\n",
    "    return cur.lastrowid"
   ]
  },
  {
   "cell_type": "code",
   "execution_count": 9,
   "metadata": {},
   "outputs": [],
   "source": [
    "#Create a new project into the projects table\n",
    "#param conn:\n",
    "#param project:\n",
    "#return: project id\n",
    "\n",
    "def create_enroll(conn, enroll):\n",
    "\n",
    "    sql = ''' INSERT INTO enroll(sid,cid)\n",
    "              VALUES(?,?) '''\n",
    "    cur = conn.cursor()\n",
    "    cur.execute(sql, enroll)\n",
    "    return cur.lastrowid"
   ]
  },
  {
   "cell_type": "markdown",
   "metadata": {},
   "source": [
    "def main():\n",
    "    database = r\"Database.db\"\n",
    "\n",
    "    # create a database connection\n",
    "    conn = create_connection(database)\n",
    "    with conn:\n",
    "        \n",
    "        # create 5 Students\n",
    "        Oswel =(1001, 'Oswel');\n",
    "        Estimore =(1002, 'Estimore');\n",
    "        Lavus =(1003, 'Lavus');\n",
    "        Percy =(1004, 'Percy');\n",
    "        Elsa =(1005, 'Elsa');\n",
    "        create_students(conn, Oswel);\n",
    "        create_students(conn, Estimore);\n",
    "        create_students(conn, Lavus);\n",
    "        create_students(conn, Percy);\n",
    "        create_students(conn, Elsa);\n",
    "\n",
    "        # create 5 Courses \n",
    "        Caldari =(1, \"Caldari\", 4);\n",
    "        Amarr=(2, \"Amarr\", 4);\n",
    "        Gallente=(3, \"Gallente\", 4);\n",
    "        Minmatar=(4, \"Minmatar\", 4);\n",
    "        Ore=(5, \"Ore\", 4);\n",
    "        create_courses(conn, Caldari);\n",
    "        create_courses(conn, Amarr);\n",
    "        create_courses(conn, Gallente);\n",
    "        create_courses(conn, Minmatar);\n",
    "        create_courses(conn, Ore);\n",
    "\n",
    "        # create 10 Enrolled\n",
    "        Enroll_1 =(1001, 1);\n",
    "        Enroll_2 =(1001, 5);\n",
    "        Enroll_3 =(1002, 3);\n",
    "        Enroll_4 =(1002, 4);\n",
    "        Enroll_5 =(1003, 2);\n",
    "        Enroll_6 =(1003, 5);\n",
    "        Enroll_7 =(1004, 1);\n",
    "        Enroll_8 =(1004, 2);\n",
    "        Enroll_9 =(1005, 3);\n",
    "        Enroll_10 =(1005, 5);\n",
    "        create_enroll(conn, Enroll_1);\n",
    "        create_enroll(conn, Enroll_2);\n",
    "        create_enroll(conn, Enroll_3);\n",
    "        create_enroll(conn, Enroll_4);\n",
    "        create_enroll(conn, Enroll_5);\n",
    "        create_enroll(conn, Enroll_6);\n",
    "        create_enroll(conn, Enroll_7);\n",
    "        create_enroll(conn, Enroll_8);\n",
    "        create_enroll(conn, Enroll_9);\n",
    "        create_enroll(conn, Enroll_10);"
   ]
  },
  {
   "cell_type": "markdown",
   "metadata": {
    "slideshow": {
     "slide_type": "fragment"
    }
   },
   "source": [
    "if __name__ == '__main__':\n",
    "    main()"
   ]
  },
  {
   "cell_type": "code",
   "execution_count": 10,
   "metadata": {},
   "outputs": [],
   "source": [
    "def select_all_students(conn):\n",
    "    cur = conn.cursor()\n",
    "    cur.execute(\"SELECT * FROM students\")\n",
    "    rows = cur.fetchall()\n",
    "    for row in rows:\n",
    "        print(row)"
   ]
  },
  {
   "cell_type": "code",
   "execution_count": 11,
   "metadata": {},
   "outputs": [],
   "source": [
    "def select_all_courses(conn):\n",
    "    cur = conn.cursor()\n",
    "    cur.execute(\"SELECT * FROM courses\")\n",
    "    rows = cur.fetchall()\n",
    "    for row in rows:\n",
    "        print(row)"
   ]
  },
  {
   "cell_type": "code",
   "execution_count": 12,
   "metadata": {},
   "outputs": [],
   "source": [
    "def select_all_enroll(conn):\n",
    "    cur = conn.cursor()\n",
    "    cur.execute(\"SELECT * FROM enroll\")\n",
    "    rows = cur.fetchall()\n",
    "    for row in rows:\n",
    "        print(row)"
   ]
  },
  {
   "cell_type": "markdown",
   "metadata": {},
   "source": [
    "# Methods below ran in application\n"
   ]
  },
  {
   "cell_type": "code",
   "execution_count": 13,
   "metadata": {},
   "outputs": [],
   "source": [
    "def List(conn):\n",
    "    cur = conn.cursor()\n",
    "    cur.execute(\"SELECT * FROM courses\")\n",
    "    rows = cur.fetchall()\n",
    "    for row in rows:\n",
    "        print(row)\n",
    "    print(\"List success\")"
   ]
  },
  {
   "cell_type": "code",
   "execution_count": 14,
   "metadata": {},
   "outputs": [],
   "source": [
    "def Enroll(conn, courseID, studentID):\n",
    "    database = r\"Database.db\"\n",
    "    conn1 = create_connection(database)\n",
    "    with conn:\n",
    "        strCourseID =  f'{courseID}'\n",
    "        strStudentID =  f'{studentID}'\n",
    "        cur = conn.cursor()\n",
    "        cur.execute(\"SELECT COUNT(*) FROM enroll WHERE cid=\" + strCourseID + \" AND sid=\" + strStudentID                                                                                                                                                                                                                                                                                                                                                                                                  )\n",
    "        rows = cur.fetchall()\n",
    "        for row in rows:\n",
    "            print()\n",
    "        count = row[0]\n",
    "        if count == 0:\n",
    "            EnrollStudent = (studentID, courseID);\n",
    "            create_enroll(conn, EnrollStudent);\n",
    "            print(\"Enroll Success\")\n",
    "        else:\n",
    "            print(\"Class already enrolled\")"
   ]
  },
  {
   "cell_type": "code",
   "execution_count": 15,
   "metadata": {},
   "outputs": [],
   "source": [
    "def Withdraw(conn,courseID,studentID):\n",
    "    cur = conn.cursor()\n",
    "    strStudentID =  f'{studentID}'\n",
    "    strCourseID =  f'{courseID}'\n",
    "    cur.execute(\"DELETE FROM enroll WHERE cid=\" + strCourseID + \" AND sid=\" + strStudentID)\n",
    "    conn.commit()\n",
    "    print()\n",
    "    print(\"Withdraw Success\")"
   ]
  },
  {
   "cell_type": "code",
   "execution_count": 16,
   "metadata": {},
   "outputs": [],
   "source": [
    "def Search(conn,courseName):\n",
    "    cur = conn.cursor()\n",
    "    strCourseName =  f'{courseName}'\n",
    "    cur.execute(\"SELECT * FROM courses WHERE cname='\" + strCourseName + \"'\")\n",
    "    rows = cur.fetchall()\n",
    "    for row in rows:\n",
    "        print(row)\n",
    "    print(\"Search Success\")"
   ]
  },
  {
   "cell_type": "code",
   "execution_count": 17,
   "metadata": {},
   "outputs": [],
   "source": [
    "def myClasses(conn, studentID):\n",
    "    cur = conn.cursor()\n",
    "    strStudentID =  f'{studentID}'\n",
    "    cur.execute(\"SELECT C.cid,C.cname FROM courses C, enroll E WHERE E.cid = C.cid AND sid=\" + strStudentID)\n",
    "    rows = cur.fetchall()\n",
    "    for row in rows:\n",
    "        print(row)\n",
    "    print(\"My classes Success\")"
   ]
  },
  {
   "cell_type": "markdown",
   "metadata": {},
   "source": [
    "# APPLICATION \n",
    "    | | | | | | | | | | | \n",
    "    V V V V V V V V V V V\n",
    "   "
   ]
  },
  {
   "cell_type": "code",
   "execution_count": 18,
   "metadata": {},
   "outputs": [
    {
     "name": "stdout",
     "output_type": "stream",
     "text": [
      "Enter studentid (-1 to add a new student): X\n",
      "2.6.0\n",
      "\u001b[1;36;40m                                                                                       \u001b[0;34;0m \n",
      "Enter Key to Perform the Method\n",
      "(L) - List: Lists all records in the course table\n",
      "(E) - Enroll: Enrolls the active student in a course\n",
      "(W) - Withdrawl: Deletes an entry in the Enrolled table corresponding to active student\n",
      "(S) – Search: Search course based on substring of course name\n",
      "(M) – My Classes: lists all classes enrolled in by the active student\n",
      "(X) – Exit: exit application\n",
      "X\n",
      "\u001b[1;36;40m                                                                                       \u001b[0;34;0m \n",
      "\u001b[1;37;41mApplication Closed                                                                     \n"
     ]
    }
   ],
   "source": [
    "studentID = input('Enter studentid (-1 to add a new student): ')\n",
    "\n",
    "database = r\"Database.db\"\n",
    "conn = create_connection(database)\n",
    "with conn:\n",
    "    userInput = \"\";\n",
    "    \n",
    "    if (studentID == \"-1\"):\n",
    "        cur = conn.cursor()\n",
    "        cur.execute(\"SELECT MAX(sid) FROM students\")\n",
    "        rows = cur.fetchall()\n",
    "\n",
    "        str =  ''.join(rows[0])\n",
    "        studentID = int(str) + 1 \n",
    "        studentName = input(\"Enter Students Name: \")\n",
    "        newStudent =(studentID, studentName);\n",
    "        create_students(conn, newStudent);\n",
    "        stringID = f'{studentID}'\n",
    "        cur.execute(\"SELECT * FROM students WHERE sid=\" + stringID)\n",
    "        \n",
    "        rows = cur.fetchall()\n",
    "        print(\"Updated Student: \")\n",
    "        for row in rows:\n",
    "            \n",
    "            print(row)\n",
    "    \n",
    "    \n",
    "    while userInput != \"X\":\n",
    "        print(\"\\033[1;36;40m                                                                                       \\033[0;34;0m \")\n",
    "        print(\"Enter Key to Perform the Method\")\n",
    "        print(\"(L) - List: Lists all records in the course table\")\n",
    "        print(\"(E) - Enroll: Enrolls the active student in a course\")\n",
    "        print(\"(W) - Withdrawl: Deletes an entry in the Enrolled table corresponding to active student\")\n",
    "        print(\"(S) – Search: Search course based on substring of course name\")\n",
    "        print(\"(M) – My Classes: lists all classes enrolled in by the active student\")\n",
    "        print(\"(X) – Exit: exit application\")\n",
    "        userInput = input()\n",
    "        \n",
    "        if userInput == \"L\":\n",
    "            print(\"\\033[1;32;42m                                                                                       \\033[0;34;0m \");\n",
    "            List(conn);\n",
    "            print(\"\\033[1;32;42m                                                                                       \\033[0;34;0m \");\n",
    "        if userInput == \"E\":\n",
    "            print(\"\\033[1;32;42m                                                                                       \\033[0;34;0m \");\n",
    "            courseID = input(\"Input courseID: \");\n",
    "            Enroll(conn, courseID,studentID);\n",
    "            print(\"\\033[1;32;42m                                                                                       \\033[0;34;0m \");\n",
    "        if userInput == \"W\":\n",
    "            print(\"\\033[1;32;42m                                                                                       \\033[0;34;0m \");\n",
    "            courseID = input(\"Input courseID: \");\n",
    "            Withdraw(conn, courseID, studentID)\n",
    "            print(\"\\033[1;32;42m                                                                                       \\033[0;34;0m \");\n",
    "        if userInput == \"S\":\n",
    "            print(\"\\033[1;32;42m                                                                                       \\033[0;34;0m \");\n",
    "            courseName = input(\"Enter Course Name: \")\n",
    "            Search(conn, courseName)\n",
    "            print(\"\\033[1;32;42m                                                                                       \\033[0;34;0m \");\n",
    "        if userInput == \"M\":\n",
    "            print(\"\\033[1;32;42m                                                                                       \\033[0;34;0m \");\n",
    "            myClasses(conn, studentID)\n",
    "            print(\"\\033[1;32;42m                                                                                       \\033[0;34;0m \");\n",
    "            \n",
    "        print(\"\\033[1;36;40m                                                                                       \\033[0;34;0m \")\n",
    "        \n",
    "    print(\"\\033[1;37;41mApplication Closed                                                                     \")\n",
    "        "
   ]
  },
  {
   "cell_type": "markdown",
   "metadata": {},
   "source": [
    "# DELETE TABLES\n",
    "database = r\"Database.db\"\n",
    "conn = create_connection(database)\n",
    "with conn:\n",
    "    cur = conn.cursor()\n",
    "    cur.execute(\"DELETE FROM students\")\n",
    "    cur.execute(\"DELETE FROM courses\")\n",
    "    cur.execute(\"DELETE FROM enroll\")"
   ]
  },
  {
   "cell_type": "code",
   "execution_count": 19,
   "metadata": {},
   "outputs": [
    {
     "name": "stdout",
     "output_type": "stream",
     "text": [
      "2.6.0\n",
      "Students ===========================\n",
      "('1001', 'Oswel')\n",
      "('1002', 'Estimore')\n",
      "('1003', 'Lavus')\n",
      "('1004', 'Percy')\n",
      "('1005', 'Elsa')\n",
      "('1006', 'SoYoung')\n",
      "Courses ===========================\n",
      "('1', 'Caldari', 4)\n",
      "('2', 'Amarr', 4)\n",
      "('3', 'Gallente', 4)\n",
      "('4', 'Minmatar', 4)\n",
      "('5', 'Ore', 4)\n",
      "Enroll ===========================\n",
      "('1001', '1')\n",
      "('1001', '5')\n",
      "('1002', '3')\n",
      "('1002', '4')\n",
      "('1003', '2')\n",
      "('1003', '5')\n",
      "('1004', '1')\n",
      "('1004', '2')\n",
      "('1005', '3')\n",
      "('1005', '5')\n",
      "('1006', '1')\n",
      "('1006', '5')\n"
     ]
    }
   ],
   "source": [
    "# Display All Tables\n",
    "database = r\"Database.db\"\n",
    "conn = create_connection(database)\n",
    "with conn:\n",
    "        print(\"Students ===========================\")\n",
    "        select_all_students(conn);\n",
    "        print(\"Courses ===========================\")\n",
    "        select_all_courses(conn);\n",
    "        print(\"Enroll ===========================\")\n",
    "        select_all_enroll(conn);\n"
   ]
  },
  {
   "cell_type": "code",
   "execution_count": null,
   "metadata": {},
   "outputs": [],
   "source": []
  }
 ],
 "metadata": {
  "kernelspec": {
   "display_name": "Python 3",
   "language": "python",
   "name": "python3"
  },
  "language_info": {
   "codemirror_mode": {
    "name": "ipython",
    "version": 3
   },
   "file_extension": ".py",
   "mimetype": "text/x-python",
   "name": "python",
   "nbconvert_exporter": "python",
   "pygments_lexer": "ipython3",
   "version": "3.7.6"
  }
 },
 "nbformat": 4,
 "nbformat_minor": 4
}
